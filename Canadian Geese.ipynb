{
 "cells": [
  {
   "cell_type": "markdown",
   "id": "b5387bfd",
   "metadata": {},
   "source": [
    "# Canadian Geese"
   ]
  },
  {
   "cell_type": "markdown",
   "id": "3b8b95d7",
   "metadata": {},
   "source": [
    "## Branta Canadensis"
   ]
  },
  {
   "cell_type": "markdown",
   "id": "dd3636cb",
   "metadata": {},
   "source": [
    "Ridhikasri Kanniappan r.kanniappan001@umg.edu"
   ]
  },
  {
   "cell_type": "markdown",
   "id": "e771710e",
   "metadata": {},
   "source": [
    "Alejandro GomezCatano alejandro.gomez001@umb.edu"
   ]
  },
  {
   "cell_type": "markdown",
   "id": "e80675a5",
   "metadata": {},
   "source": [
    "Ahmed Ahmed ahmed.ahmed003@umb.edu"
   ]
  },
  {
   "cell_type": "markdown",
   "id": "34bf6dfa",
   "metadata": {},
   "source": [
    "Jeffrey Tremblay jeffrey.tremblay001@umb.edu"
   ]
  },
  {
   "cell_type": "markdown",
   "id": "74670c39",
   "metadata": {},
   "source": [
    "Greg Wolff gregory.wolff001@umb.edu"
   ]
  },
  {
   "cell_type": "markdown",
   "id": "cb49d7e7",
   "metadata": {},
   "source": [
    "Shailey Concheri shailey.concheri001@umb.edu"
   ]
  }
 ],
 "metadata": {
  "kernelspec": {
   "display_name": "Python 3 (ipykernel)",
   "language": "python",
   "name": "python3"
  },
  "language_info": {
   "codemirror_mode": {
    "name": "ipython",
    "version": 3
   },
   "file_extension": ".py",
   "mimetype": "text/x-python",
   "name": "python",
   "nbconvert_exporter": "python",
   "pygments_lexer": "ipython3",
   "version": "3.9.12"
  }
 },
 "nbformat": 4,
 "nbformat_minor": 5
}
